{
 "cells": [
  {
   "cell_type": "markdown",
   "id": "4e487082",
   "metadata": {},
   "source": [
    "# Ecuaciones diferenciales lineales\n",
    "\n",
    "````{prf:theorem} Orthogonal-Projection-Theorem\n",
    ":label:\n",
    "\n",
    "\n",
    "````\n",
    "\n",
    "## Problemas de valor inicial y valor de frontera\n",
    "### Ecuaciones homogéneas y no homogéneas\n",
    "\n",
    "## Reducción de orden\n",
    "\n",
    "## Ecuaciones lineales homogéneas con coeficientes constantes\n",
    "\n",
    "## Coeficientes indeterminados\n",
    "\n",
    "## Variación de parámetros"
   ]
  }
 ],
 "metadata": {
  "language_info": {
   "name": "python"
  }
 },
 "nbformat": 4,
 "nbformat_minor": 5
}
