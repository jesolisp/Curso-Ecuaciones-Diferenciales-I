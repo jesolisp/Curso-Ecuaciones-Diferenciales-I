{
 "cells": [
  {
   "cell_type": "markdown",
   "id": "4e487082",
   "metadata": {},
   "source": [
    "# Ecuaciones diferenciales lineales\n",
    "\n",
    "2.1 Ecuación diferencial lineal de primer orden. Solución de la homogénea asociada. Solución\n",
    "general. Aplicaciones.\n",
    "2.2 La ecuación diferencial de orden n. Operador diferencial. Polinomios diferenciales. Igualdad\n",
    "entre polinomios diferenciales. Operaciones y propiedades de polinomios diferenciales."
   ]
  }
 ],
 "metadata": {
  "language_info": {
   "name": "python"
  }
 },
 "nbformat": 4,
 "nbformat_minor": 5
}
