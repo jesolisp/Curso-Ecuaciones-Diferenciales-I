{
 "cells": [
  {
   "cell_type": "markdown",
   "id": "0dc8a9e1",
   "metadata": {},
   "source": [
    "# Curvas solución\n",
    "\n",
    "## ED de primer orden autónomas\n",
    "\n",
    "Una EDO en la que la variable independiente no está explícitamente presente se llama **autónoma** (EDA). Si $x$ es la variable independiente, entonces podemos escribir una EDA de primer orden como $f\\left(y,y'\\right)=0$ o de la forma normal\n",
    "\n",
    "$$\n",
    " \\frac{\\mathrm{d}y}{\\mathrm{d}x} = f(y).\n",
    "$$ (eqn:EDA)\n",
    "\n",
    "## Puntos críticos\n",
    "\n",
    "Un número real $c$ es un **punto crítico** de la Ec. {eq}`eqn:EDA` si es una raíz de $f$, esto es, $f(c)=0$. Un punto crítico también es llamado **punto de equilibrio** o **punto estacionario**.\n",
    "\n",
    "Una solución constante $y(x)=c$ se llama **solución de equilibrio** y son _únicas_ soluciones constantes de la Ec. {eq}`eqn:EDA`.\n",
    "\n",
    "## Curvas solución\n",
    "\n",
    "La ecuación autónoma\n",
    "\n",
    "$$\n",
    " \\frac{\\mathrm{d}y}{\\mathrm{d}x} = (y-1)^{2},\n",
    "$$\n",
    "tiene un punto crítico $c=1$ donde la solución $y(x)$ es una función creciente en las subregiones $-\\infty < y < 1$ así como $1 < y < \\infty$ con $x\\in(-\\infty, \\infty)$.\n",
    "\n",
    "Para este caso, $y(x) = 1 - \\frac{1}{(x + c)}$ es una familia uniparamétrica de soluciones de la ecuación diferencial donde el valor de $c$ se puede obtener a partir de una condición inicial dada. \n",
    "\n",
    "Las soluciones de los siguientes PVI\n",
    "\n",
    "$$\n",
    " \\frac{\\mathrm{d}y}{\\mathrm{d}x} = (y-1)^{2}, \\quad y(0) = -1, \\qquad \\frac{\\mathrm{d}y}{\\mathrm{d}x} = (y-1)^{2},\\quad y(0)=2,\n",
    "$$\n",
    "están definidas en los intervalos especiales\n",
    "\n",
    "$$\n",
    " y(x) = 1 - \\frac{1}{x + \\frac{1}{2}}, \\quad -\\frac{1}{2} < x < \\infty, \\qquad y(x) = 1 - \\frac{1}{x - 1}, \\quad -\\infty < x < 1.\n",
    "$$\n",
    "\n",
    "## Atractores y repulsores\n",
    "\n",
    "Suponga que $y(x)$ es una solución no constante de la EDA {eq}`eqn:EDA` y que $c$ es un punto crítico de la ED. Se dice que un punto crítico $c$ es **asintóticamente estable** si las soluciones $y(x)$ comienzan en el punto $\\left(x_{0},y_{0}\\right)$ suficientemente cerca de $c$ presentan un comporamiento asintótico cuando $\\lim_{x\\rightarrow \\infty} y(x) = c$.\n",
    "\n",
    "Cuando todas las soluciones $y(x)$ de la Ec. {eq}`eqn:EDA` comienzan en el punto $\\left(x_{0},y_{0}\\right)$ y se alejan de $c$ conforme crece $x$, se dice que el punto crítico $c$ es **inestable**. Cuando un punto crítico es inestable se le conoce como **repulsor**.\n",
    "\n",
    "Si la solución inicia en el punto $\\left(x_{0},y_{0}\\right)$ el cual está cerca de $c$ es atraída hacia $c$ por un lado y repelida por el otro, entonces el punto crítico se denomina **semiestable**."
   ]
  }
 ],
 "metadata": {
  "language_info": {
   "name": "python"
  }
 },
 "nbformat": 4,
 "nbformat_minor": 5
}
