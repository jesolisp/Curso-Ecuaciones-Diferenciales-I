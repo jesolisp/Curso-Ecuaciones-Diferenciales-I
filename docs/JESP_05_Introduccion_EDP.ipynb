{
 "cells": [
  {
   "cell_type": "markdown",
   "id": "9e67e5c4",
   "metadata": {},
   "source": [
    "# Introducción a las ecuaciones diferenciales en derivadas parciales "
   ]
  }
 ],
 "metadata": {
  "language_info": {
   "name": "python"
  }
 },
 "nbformat": 4,
 "nbformat_minor": 5
}
