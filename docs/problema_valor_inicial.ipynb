{
 "cells": [
  {
   "cell_type": "markdown",
   "id": "5dbdc5b8",
   "metadata": {},
   "source": [
    "# Problemas con valor inicial \n",
    "\n",
    "El **problema con valores iniciales (PVI)** está caracterizado por encontrar la solución $y(x)$ de una ED de $n$-ésimo orden tal que $y(x)$ satisface condiciones impuestas sobre una $y(x)$ desconocido o sus derivadas en el intervalo $I$ que contiene a $x_{0}$ \n",
    "\n",
    "$$\n",
    " \\frac{\\mathrm{d}^{n}y}{\\mathrm{d}x^{n}} = f\\left(x,y,y',\\dots,y^{(n-1)} \\right),\n",
    "$$ (eqn:pvi_norden)\n",
    "sujeto a \n",
    "\n",
    "$$\n",
    " y\\left(x_{0}\\right) = y_{0},y'\\left(x_{0}\\right) = y_{1},\\dots,y^{(n-1)}\\left(x_{0}\\right) = y_{n-1},\n",
    "$$\n",
    "donde $y_{0}, y_{1}, \\dots, y_{n-1}$ son constantes reales arbitrarias dadas y los valores de $y(x)$ así como de sus primeras $n-1$ derivadas en un punto $x_{0}, y\\left(x_{0}\\right)=y_{0},y'\\left(x_{0}\\right)=y_{1},\\dots,y^{(n-1)}\\left(x_{0}\\right)=y_{n-1}$ representan las **condiciones iniciales**.\n",
    "\n",
    "**PVI de primer y segundo orden**\n",
    "\n",
    "De la Ec. {eq}`eqn:pvi_norden`, podemos representar PVI de primer y segundo orden como sigue\n",
    "\n",
    "$$\n",
    " \\frac{\\mathrm{d}y}{\\mathrm{d}x} = f(x,y), \\quad y\\left(x_{0}\\right) = y_{0},\n",
    "$$ (eqn:EDO_1o)\n",
    "\n",
    "$$\n",
    " \\frac{\\mathrm{d}^{2}y}{\\mathrm{d}x^{2}} = f(x,y,y'), \\quad y\\left(x_{0}\\right) = y_{0}, y'\\left(x_{0}\\right) = y_{1}.\n",
    "$$ (eqn:EDO_2o)\n",
    "\n",
    "Resolver un PVI de la forma {eq}`eqn:EDO_1o` conlleva a determinar una familia paramétrica de soluciones y después utilizar la condición inicial $x_{0}$ para determinar los valores numéricos de las constantes en la familia tomando en cuenta que la solución particular está definida en un intervalo $I$ que contiene a $x_{0}$.\n",
    "\n",
    "# Existencia y unicidad\n",
    "\n",
    "Al trabajar con PVI se tiene que demostrar los siguientes puntos:\n",
    "\n",
    "| **Criterio** | **Condición** |\n",
    "|:-:|:-:|\n",
    "| Existencia | La ED $\\mathrm{d}y/\\mathrm{d}x = f(x,y)$ tiene soluciones         |\n",
    "|            | Alguna de las curvas solución pasa por $\\left(x_{0},y_{0}\\right)$ |\n",
    "|            |                                                                   |\n",
    "| Unicidad   | Una curva solución pasa a través de $\\left(x_{0},y_{0}\\right)$    |\n",
    "\n",
    "**Ejemplo**\n",
    "\n",
    "El siguiente PVI \n",
    "\n",
    "$$\n",
    " \\frac{\\mathrm{d}y}{\\mathrm{d}x} = xy^{1/2}, \\quad y(0)=0,\n",
    "$$\n",
    "tiene al menos dos soluciones. Por ejemplo, $y=0$ y $y=\\frac{1}{16}x^{4}$ cuya curva solución pasa por punto $(0,0)$.\n"
   ]
  }
 ],
 "metadata": {
  "language_info": {
   "name": "python"
  }
 },
 "nbformat": 4,
 "nbformat_minor": 5
}
