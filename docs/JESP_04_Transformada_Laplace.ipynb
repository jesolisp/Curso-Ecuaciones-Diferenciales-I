{
 "cells": [
  {
   "cell_type": "markdown",
   "id": "f7ed2fd2",
   "metadata": {},
   "source": [
    "# Transformada de Laplace"
   ]
  }
 ],
 "metadata": {
  "language_info": {
   "name": "python"
  }
 },
 "nbformat": 4,
 "nbformat_minor": 5
}
