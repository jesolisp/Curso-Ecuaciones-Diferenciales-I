{
 "cells": [
  {
   "cell_type": "markdown",
   "id": "f7ed2fd2",
   "metadata": {},
   "source": [
    "# Transformada de Laplace\n",
    "\n",
    "## Definición de la transformada de Laplace\n",
    "## Transformadas inversas y transformadas de derivadas\n",
    "## Propiedades operacionales\n",
    "## Sistemas de ecuaciones diferenciales lineales"
   ]
  }
 ],
 "metadata": {
  "language_info": {
   "name": "python"
  }
 },
 "nbformat": 4,
 "nbformat_minor": 5
}
