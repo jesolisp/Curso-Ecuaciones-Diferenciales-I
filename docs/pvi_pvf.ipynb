{
 "cells": [
  {
   "cell_type": "markdown",
   "id": "515d15ca",
   "metadata": {},
   "source": [
    "# Problemas de valor inicial y valor de frontera"
   ]
  }
 ],
 "metadata": {
  "language_info": {
   "name": "python"
  }
 },
 "nbformat": 4,
 "nbformat_minor": 5
}
