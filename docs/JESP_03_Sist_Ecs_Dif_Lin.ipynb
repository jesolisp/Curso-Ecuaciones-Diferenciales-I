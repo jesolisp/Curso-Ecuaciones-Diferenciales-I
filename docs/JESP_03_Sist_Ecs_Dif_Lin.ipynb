{
 "cells": [
  {
   "cell_type": "markdown",
   "id": "0cbcc527",
   "metadata": {},
   "source": [
    "# Sistemas de ecuaciones diferenciales lineales\n",
    "\n",
    "## Solución de sistemas de ED lineales por eliminación\n",
    "## Modelado con ecuaciones diferenciales de primer orden\n",
    "## Modelado con ecuaciones diferenciales de orden superior\n",
    "## Sistemas de ecuaciones diferenciales lineales de primer orden"
   ]
  }
 ],
 "metadata": {
  "language_info": {
   "name": "python"
  }
 },
 "nbformat": 4,
 "nbformat_minor": 5
}
