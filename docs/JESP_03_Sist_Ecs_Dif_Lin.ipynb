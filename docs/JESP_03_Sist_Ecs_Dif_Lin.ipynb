{
 "cells": [
  {
   "cell_type": "markdown",
   "id": "0cbcc527",
   "metadata": {},
   "source": [
    "# Sistemas de ecuaciones diferenciales lineales"
   ]
  }
 ],
 "metadata": {
  "language_info": {
   "name": "python"
  }
 },
 "nbformat": 4,
 "nbformat_minor": 5
}
