{
 "cells": [
  {
   "cell_type": "markdown",
   "id": "4e487082",
   "metadata": {},
   "source": [
    "# Ecuaciones diferenciales lineales\n",
    "\n",
    "Un **problema con valores iniciales de $n$-ésimo orden** es \n",
    "\n",
    "$$\n",
    " a_{n}(x)\\frac{\\mathrm{d}^{n}y}{\\mathrm{d}x^{n}} + a_{n-1}(x)\\frac{\\mathrm{d}^{n-1}y}{\\mathrm{d}x^{n-1}} + \\cdots + a_{1}(x) \\frac{\\mathrm{d}y}{\\mathrm{d}x} + a_{0}(x)y = g(x).\n",
    "$$\n",
    "sujeta a \n",
    "\n",
    "$$\n",
    " y\\left(x_{0} \\right) = y_{0}, ~ y'\\left(x_{0} \\right) = y_{1}~,\\dots,~ y^{(n-1)}\\left(x_{0} \\right) = y_{n-1}.\n",
    "$$\n",
    "\n",
    "En este tipo de problema se busca una función definida en $I$ que contiene a $x_{0}$ que satisface la ED y las $n$ condiciones iniciales en $x_{0}:y\\left(x_{0} \\right)=y_{0},y'\\left(x_{0} \\right)=y_{1},\\dots,y^{(n-1)}\\left(x_{0} \\right)=y_{n-1}$.\n",
    "\n",
    "Para EDs de orden $n$, se define el siguiente teorema.\n",
    "\n",
    "````{prf:theorem} Existencia de una solución única\n",
    ":label:existencia_su\n",
    "\n",
    "Sea $a_{n}\\left(x \\right), a_{n-1}\\left(x \\right), \\dots, a_{1}\\left(x \\right),a_{0}\\left(x \\right)$ y $g\\left(x \\right)$ continuas en el intervalo $I$, y además $a_{n}\\left(x \\right) \\neq 0~\\forall x \\in I$. Si $x=x_{0}$ es cualquier punto en $I$, entonces una solución $y(x)$ del problema con valores iniciales existe en $I$ y es única.\n",
    "````\n",
    "\n",
    "**Ejemplo**\n",
    "\n",
    "Dado el siguiente problema de valor inicial\n",
    "\n",
    "$$\n",
    " y'' - 4y = 12x, \\quad y(0) = 4, \\quad y'(0)=1,\n",
    "$$ (eqn:esu_pvi_ej2)\n",
    "verifique que la función $y = 3e^{2x} + e^{-2x} - 3x$ es una solución del PVI.\n",
    "\n",
    "De la Ec. {eq}`eqn:esu_pvi_ej2` podemos observar que $g(x) = 12x$ y además $a_{2}\\left(x\\right)=1 \\neq 0$ en algún intervalo $I$ que contenga a $x=0$."
   ]
  },
  {
   "cell_type": "markdown",
   "id": "90bf6cce",
   "metadata": {
    "vscode": {
     "languageId": "plaintext"
    }
   },
   "source": [
    "## Problemas de valor inicial y valor de frontera\n",
    "\n",
    "Un problema de la forma \n",
    "\n",
    "$$\n",
    " a_{2}(x)\\frac{\\mathrm{d}^{2}y}{\\mathrm{d}x^{2}} + a_{1}(x)\\frac{\\mathrm{d}y}{\\mathrm{d}x} + a_{0}(x)y = g(x),\n",
    "$$\n",
    "sujeto a\n",
    "\n",
    "$$\n",
    " y\\left(a \\right) = y_{0}, \\quad y\\left(b \\right) = y_{1},\n",
    "$$\n",
    "se conoce como **problema con valores de frontera (PVF)**. Donde $y\\left(a \\right) = y_{0}$, y $y\\left(b \\right) = y_{1}$ se llaman **condiciones de frontera**.\n",
    "\n",
    "Una solución al PVF es una función que satisface la ED en algún intervalo $I$ que contiene a $a$ y $b$. Además, pasa por los puntos $\\left(a, y_{0} \\right)$ y $\\left(b, y_{1} \\right)$.\n",
    "\n",
    "\n",
    "**Ejemplo**\n",
    "\n",
    "La siguiente ecuación diferencial\n",
    "\n",
    "$$\n",
    " x'' + 16x = 0,\n",
    "$$\n",
    "\n",
    "tiene como familia de soluciones la siguiente expresión\n",
    "\n",
    "$$\n",
    " x = c_{1} \\cos\\left(4t \\right) + c_{2}\\sin\\left(4t \\right).\n",
    "$$\n",
    "\n",
    "* _Número infinito de soluciones_\n",
    "\n",
    "Considere las siguientes condiciones de frontera\n",
    "\n",
    "$$\n",
    " x\\left(0 \\right) = 0, \\quad x\\left(\\frac{\\pi}{2} \\right) = 0.\n",
    "$$\n",
    "\n",
    "Lo anterior implica que $c_{1} = 0$ y por consiguiente $x=c_{2}\\sin\\left(4t \\right)$. Para la segunda condición se tiene que $0 = c_{2}\\sin\\left(2\\pi \\right)$ se cumple para cualquier valor de $c_{2}$ ya que $\\sin\\left(2\\pi\\right) = 0$.\n",
    "\n",
    "* _Única solución_\n",
    "\n",
    "Considere las siguientes condiciones de frontera\n",
    "\n",
    "$$\n",
    " x\\left(0 \\right) = 0, \\quad x\\left(\\frac{\\pi}{8} \\right) = 0.\n",
    "$$\n",
    "\n",
    "Lo anterior implica que $c_{1} = 0$. Por consiguiente $x=0$ es una **solución única**.\n",
    "\n",
    "* _Sin solución_\n",
    "\n",
    "Considere las siguientes condiciones de frontera\n",
    "\n",
    "$$\n",
    " x\\left(0 \\right) = 0, \\quad x\\left(\\frac{\\pi}{2} \\right) = 1.\n",
    "$$\n",
    "\n",
    "Lo anterior implica que $c_{1} = 0$. Dado que $1 \\neq c_{2}\\sin\\left(2\\pi \\right)$. Por consiguiente, el sistema **no tiene solución**."
   ]
  },
  {
   "cell_type": "markdown",
   "id": "328b870f",
   "metadata": {
    "vscode": {
     "languageId": "plaintext"
    }
   },
   "source": [
    "### Ecuaciones homogéneas y no homogéneas\n",
    "\n",
    "Una ED lineal de $n$-ésimo orden de la forma\n",
    "\n",
    "$$\n",
    " a_{n}(x)\\frac{\\mathrm{d}^{n}y}{\\mathrm{d}x^{n}} + a_{n-1}(x)\\frac{\\mathrm{d}^{n-1}y}{\\mathrm{d}x^{n-1}} + \\cdots + a_{1}(x) \\frac{\\mathrm{d}y}{\\mathrm{d}x} + a_{0}(x)y = 0,\n",
    "$$\n",
    "\n",
    "se dice que es **homogénea** mientras que \n",
    "\n",
    "$$\n",
    " a_{n}(x)\\frac{\\mathrm{d}^{n}y}{\\mathrm{d}x^{n}} + a_{n-1}(x)\\frac{\\mathrm{d}^{n-1}y}{\\mathrm{d}x^{n-1}} + \\cdots + a_{1}(x) \\frac{\\mathrm{d}y}{\\mathrm{d}x} + a_{0}(x)y = g(x).\n",
    "$$\n",
    "con $g(x)$ diferente de cero, se dice que es **no homogénea**."
   ]
  }
 ],
 "metadata": {
  "language_info": {
   "name": "python"
  }
 },
 "nbformat": 4,
 "nbformat_minor": 5
}
