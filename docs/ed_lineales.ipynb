{
 "cells": [
  {
   "cell_type": "markdown",
   "id": "4e487082",
   "metadata": {},
   "source": [
    "# Ecuaciones diferenciales lineales\n",
    "\n",
    "````{prf:theorem} Orthogonal-Projection-Theorem\n",
    ":label:\n",
    "\n",
    "\n",
    "````\n",
    "\n"
   ]
  }
 ],
 "metadata": {
  "language_info": {
   "name": "python"
  }
 },
 "nbformat": 4,
 "nbformat_minor": 5
}
