{
 "cells": [
  {
   "cell_type": "markdown",
   "id": "4e487082",
   "metadata": {},
   "source": [
    "# Introducción\n",
    "\n",
    "Un **problema con valores iniciales de $n$-ésimo orden** es \n",
    "\n",
    "$$\n",
    " a_{n}(x)\\frac{\\mathrm{d}^{n}y}{\\mathrm{d}x^{n}} + a_{n-1}(x)\\frac{\\mathrm{d}^{n-1}y}{\\mathrm{d}x^{n-1}} + \\cdots + a_{1}(x) \\frac{\\mathrm{d}y}{\\mathrm{d}x} + a_{0}(x)y = g(x).\n",
    "$$\n",
    "sujeta a \n",
    "\n",
    "$$\n",
    " y\\left(x_{0} \\right) = y_{0}, ~ y'\\left(x_{0} \\right) = y_{1}~,\\dots,~ y^{(n-1)}\\left(x_{0} \\right) = y_{n-1}.\n",
    "$$\n",
    "\n",
    "En este tipo de problema se busca una función definida en $I$ que contiene a $x_{0}$ que satisface la ED y las $n$ condiciones iniciales en $x_{0}:y\\left(x_{0} \\right)=y_{0},y'\\left(x_{0} \\right)=y_{1},\\dots,y^{(n-1)}\\left(x_{0} \\right)=y_{n-1}$.\n",
    "\n",
    "Para EDs de orden $n$, se define el siguiente teorema.\n",
    "\n",
    "````{prf:theorem} Existencia de una solución única\n",
    ":label: existencia_su\n",
    "\n",
    "Sea $a_{n}\\left(x \\right), a_{n-1}\\left(x \\right), \\dots, a_{1}\\left(x \\right),a_{0}\\left(x \\right)$ y $g\\left(x \\right)$ continuas en el intervalo $I$, y además $a_{n}\\left(x \\right) \\neq 0~\\forall x \\in I$. Si $x=x_{0}$ es cualquier punto en $I$, entonces una solución $y(x)$ del problema con valores iniciales existe en $I$ y es única.\n",
    "````\n",
    "\n",
    "**Ejemplo**\n",
    "\n",
    "Dado el siguiente problema de valor inicial\n",
    "\n",
    "$$\n",
    " y'' - 4y = 12x, \\quad y(0) = 4, \\quad y'(0)=1,\n",
    "$$ (eqn:esu_pvi_ej2)\n",
    "verifique que la función $y = 3e^{2x} + e^{-2x} - 3x$ es una solución del PVI.\n",
    "\n",
    "De la Ec. {eq}`eqn:esu_pvi_ej2` podemos observar que $g(x) = 12x$ y además $a_{2}\\left(x\\right)=1 \\neq 0$ en algún intervalo $I$ que contenga a $x=0$."
   ]
  }
 ],
 "metadata": {
  "language_info": {
   "name": "python"
  }
 },
 "nbformat": 4,
 "nbformat_minor": 5
}
